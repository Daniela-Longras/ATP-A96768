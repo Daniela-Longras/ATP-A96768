{
 "cells": [
  {
   "cell_type": "markdown",
   "metadata": {},
   "source": [
    "# Manifesto "
   ]
  },
  {
   "cell_type": "markdown",
   "metadata": {},
   "source": [
    "-----------"
   ]
  },
  {
   "cell_type": "markdown",
   "metadata": {},
   "source": [
    "**Identificador:** TPC5                                                                                                        \n",
    "**Título:** \"Operações com polinómios.\"    \n",
    "**Data de início:** 2021/11/12                                                                                                \n",
    "**Data de fim:** 2021/11/14\"                                                                                                     \n",
    "**Supervisor:** [José Carlos Ramalho](https://www.di.uminho.pt/~jcr/)                                                          \n",
    "**Autor:** Daniela Longras, a96768"
   ]
  },
  {
   "cell_type": "markdown",
   "metadata": {},
   "source": [
    "-----------"
   ]
  },
  {
   "cell_type": "markdown",
   "metadata": {},
   "source": [
    "### Resumo: \n",
    "O trabalho apresentado em *__phyton__* pretende resolver o problema proposto para TPC relativamente a operações com polinómios. A função menu serve apenas para mostrar ao utilizador as possíveis operações. O utilizador pode escolher criar um polinómio, simplificá-lo, calcular a sua derivada ou criar uma tabela com os valores do polinómio quando o x é substituído pelos valores de 1 até ao número introduzido pelo utilizador."
   ]
  },
  {
   "cell_type": "markdown",
   "metadata": {},
   "source": [
    "-------------"
   ]
  },
  {
   "cell_type": "code",
   "execution_count": null,
   "metadata": {},
   "outputs": [
    {
     "name": "stdout",
     "output_type": "stream",
     "text": [
      "\n",
      "    Gestão de Polinómios: \n",
      "(1) Criar um polinómio;\n",
      "(2) Simplificar polinómio;\n",
      "(3) Calcular derivada de um polinómio;\n",
      "(4) Calcular tabela;\n",
      "(5) Ordenar o polinómio\n",
      "(0) Sair\n"
     ]
    }
   ],
   "source": [
    "def menu():\n",
    "    print(\"\"\"\n",
    "    Gestão de Polinómios: \n",
    "(1) Criar um polinómio;\n",
    "(2) Simplificar polinómio;\n",
    "(3) Calcular derivada de um polinómio;\n",
    "(4) Calcular tabela;\n",
    "(5) Ordenar o polinómio\n",
    "(0) Sair\"\"\")\n",
    "    \n",
    "def verTermo(t):\n",
    "    c, e = t\n",
    "    if e == 0:\n",
    "        return str(c)\n",
    "    else:\n",
    "        return str(c)+\"x^\"+ str(e)\n",
    "\n",
    "def verPol(p):\n",
    "    res = \" \"\n",
    "    for t in p:\n",
    "        if res == \" \":\n",
    "            res = verTermo(t)\n",
    "        else:\n",
    "            res = res + \" + \" + verTermo(t)\n",
    "    print(res)\n",
    "    \n",
    "def chaveOrd(t):\n",
    "     c, e = t \n",
    "     return e\n",
    "\n",
    "def ordenaPol(p):\n",
    "    p.sort(reverse = True, key = chaveOrd)\n",
    "    return p\n",
    "    \n",
    "def simplificarPol(p):\n",
    "    p1 = ordenarPol(p)\n",
    "    simplifica = False\n",
    "    i = 0\n",
    "    while not simplifica:\n",
    "        simplifica = True\n",
    "        if p1[i][1] == p1[i+1][1]:\n",
    "            c = p1[i][0] + p1[i+1][0]\n",
    "            i = i+1\n",
    "            simplifica = False\n",
    "        else: \n",
    "            i = i+1\n",
    "            simplifica = True\n",
    "    return p1\n",
    "\n",
    "def derivarPol(p):\n",
    "    res = []\n",
    "    for (c, e) in p:\n",
    "            if e > 0:\n",
    "                res.append((c*e, e-1))\n",
    "    return res    \n",
    "    \n",
    "def calcPol(p, x):\n",
    "    res = 0\n",
    "    for t in p:\n",
    "       res = res + t[0]*(x**t[1])\n",
    "    return res\n",
    "\n",
    "def tabela(p, nlinhas):\n",
    "    print(\"x  | Resultado\")\n",
    "    print(\"______________\")\n",
    "    for x in range (nlinhas+1):\n",
    "        print(x, str(\" | \"), calcPol(p, x))\n",
    "        \n",
    "op = \"4\"\n",
    "while (op != \"0\"):\n",
    "      menu()\n",
    "      op = input(\"Qual é a sua opção?\")\n",
    "      if op == \"1\":\n",
    "         poli = []\n",
    "         termos = int(input(\"Quantos termos tem o polinómio?\"))\n",
    "         for i in range(termos):\n",
    "             politup = input(\"Introduza o termo sem o x colocando uma , no seu lugar: \")\n",
    "             politup2 = tuple(int(x) for x in politup.split(\",\"))\n",
    "             poli.append(politup2)\n",
    "         polin = verPol(poli)\n",
    "         print (polin)\n",
    "         print (\"            \")\n",
    "        \n",
    "\n",
    "      elif op == \"2\":\n",
    "        try:\n",
    "            poli1 = simplificarPol(poli2)\n",
    "            poli2 = verPol(poli1)\n",
    "            print(poli2)\n",
    "            print(\"      \")\n",
    "        except:\n",
    "            print (\"Ainda não foi criado nenhum polinómio.\")\n",
    "            print (\"                  \")\n",
    "            \n",
    "      elif op ==\"3\":\n",
    "        try:\n",
    "            deri = derivarPol(poli)\n",
    "            ver = verPol(deri)\n",
    "            print(ver)\n",
    "            print(\"      \")\n",
    "        except:\n",
    "            print (\"Ainda não foi criado nenhum polinómio.\")\n",
    "            print (\"                  \")\n",
    "            \n",
    "      elif op ==\"4\":\n",
    "        try:\n",
    "            nlinhas = int(input(\"Qual o número de linhas a adicionar à tabela?\"))\n",
    "            print(\"        \")\n",
    "            poli2 = tabela(poli, nlinhas)\n",
    "            print(poli2)\n",
    "        except:\n",
    "            print (\"Ainda não foi criado nenhum polinómio.\")\n",
    "            print (\"                  \")\n",
    "            \n",
    "      elif op ==\"5\":\n",
    "        try:\n",
    "            orden = ordenaPol(poli)\n",
    "            ver = verPol(orden)\n",
    "            print(ver)\n",
    "            print(\"      \")\n",
    "        except:\n",
    "            print (\"Ainda não foi criado nenhum polinómio.\")\n",
    "            print (\"                  \")\n",
    "     \n",
    "      elif op == \"0\":\n",
    "            print(\"Até à próxima!\")\n",
    "            print (\"            \")\n",
    "      else:\n",
    "         print(\"Opção inválida!\")\n",
    "         print (\"             \")\n"
   ]
  }
 ],
 "metadata": {
  "kernelspec": {
   "display_name": "Python 3",
   "language": "python",
   "name": "python3"
  },
  "language_info": {
   "codemirror_mode": {
    "name": "ipython",
    "version": 3
   },
   "file_extension": ".py",
   "mimetype": "text/x-python",
   "name": "python",
   "nbconvert_exporter": "python",
   "pygments_lexer": "ipython3",
   "version": "3.8.3"
  }
 },
 "nbformat": 4,
 "nbformat_minor": 4
}
