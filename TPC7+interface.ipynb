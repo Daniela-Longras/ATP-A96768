import matplotlib.pyplot as plt
import PySimpleGUI as sg

#Exerc�cio 1:

def getAluno(texto):
    textoLimpo2=texto.replace("\"","")
    campos=textoLimpo2.split(",")
    aluno=[]
    aluno.append(campos[0])
    aluno.append(campos[1])
    aluno.append(campos[2])
    aluno.append(campos[3:])
    lista=[]
    for s in aluno[3]:
        s=lista.append(int(s))
    aluno[3]=lista
    return aluno


def lerDataset(fnome):
    f=open(fnome,encoding="utf-8")
    bd=[]
    f.readline()
    for linha in f:
        bd.append(getAluno(linha))
    return bd

#Exerc�cio 2:

def chaveOrd(a):
    return a[1]

def listarDataset(bd):
    bd.sort(key=chaveOrd)
    print(" id   nome  curso   m�dia")
    print("-------------------------")
    for a in bd:
        print(a[0]+"|"+a[1]+"|"+a[2]+"|"+str(sum(a[3])/4))



#Exerc�cio 3:

def consultarDataset(bd, id):
    for a in bd:
        for a[0] in a:
            if id == a[0]:
                print(a[0]+"|"+a[1]+"|"+a[2]+"|"+str(sum(a[3])/4))
            else:
                print("N�o h� nenhum aluno com esse id!")

#Exerc�cio 4:
def media(l):
    soma=0
    for i in range(0,len(l)):
        soma=soma+l[i]
    return soma/4


def chaveOrdena(a):
    return media(a[3])

def top10(bd):
    bd.sort(key=chaveOrdena, reverse = True)
    Top10=[]
    for a in range (0, 10):
        Top10.append(a[0]+"|"+a[1]+"|"+a[2]+"|"+str(sum(a[3])/4))
    return Top10


#Exerc�cio 5:

def distribPorCurso(bd):
    distribuicao={}
    for a in bd:
        if a[2] in distribuicao.keys():
            distribuicao[a[2]]= distribuicao[a[2]]+1
        else:
            distribuicao[a[2]]= 1
    return distribuicao


#Exerc�cio 6:

def distribPorMedia(bd):
    distribuicao={}
    for a in bd:
        if ("M�dia=", (sum(a[3])/4)) in distribuicao.keys():
            distribuicao[("M�dia=", (sum(a[3])/4))] = distribuicao[("M�dia=", (sum(a[3])/4))]+1
        else:
            distribuicao[("M�dia=", (sum(a[3])/4))] = 1
           
    return distribuicao


#Exerc�cio 7:

def plotDistribPorCurso(bd):
    curso = distribPorCurso(bd)
    x = curso.keys()
    y = []
    for n in x:
        y.append(curso[n])
    plt.bar(x, y, width = 0.8)
    plt.xlabel('Curso')
    plt.ylabel('n� de alunos')
    plt.title('Distribui��o por curso')
    plt.show()


#Exerc�cio 8:

def plotDitribPorMedia(bd):
    media = distribPorMedia(bd)
    x = media.keys()
    y = []
    for n in x:
        y.append(media[n])
    plt.bar(x, y, width = 0.8)
    plt.xlabel('M�dia')
    plt.ylabel('n� de alunos')
    plt.title('Distribui��o por m�dias')
    plt.show()

#Interface:
menu_list_column = [
    [sg.Button("Carregar BD")],
    [sg.Button("Listagem de dados da BD")],
    [sg.Button("Consultar registo na BD")],
    [sg.Button("Top 10 de m�dias")],
    [sg.Button("Destribui��o por Curso")],
    [sg.Button("Destribui��o por M�dia")],
    [sg.Button("Sair")]
]

data_viewer_column = [
    [sg.Text("Painel de Dados")],
    [sg.Text(size=(50, 3), key="-Dados-")],
]

# ----- Full layout -----
layout = [
    [
        sg.Column(menu_list_column),
        sg.VSeperator(),
        sg.Column(data_viewer_column),
    ]
]

window = sg.Window("Opera��es BD", layout,  margins=(100, 100))
# Run the Event Loop
stop = False
while not stop:
    event, values = window.read()
    if event == "Sair" or event == sg.WIN_CLOSED:
        stop = True
    # Folder name was filled in, make a list of files in the folder
    elif event == "Carregar BD":
        window["-Dados-"].update(lerDataset("alunos-windows.csv"))
        
    elif event == "Listagem de dados da BD":  
        window["-Dados-"].update(listarDataset(lerDataset("alunos-windows.csv")))
        
    elif event == "Top 10 de m�dias":  
        window["-Dados-"].update(top10(lerDataset("alunos-windows.csv")))
        
    elif event == "Distribui��o por Curso":  
        window["-Dados-"].update(distribPorCurso(lerDataset("alunos-windows.csv")))
        
    elif event == "Distribui��o por M�dia":  
        window["-Dados-"].update(distribPorMedia(lerDataset("alunos-windows.csv")))
        
    elif event == "Consultar registo na BD":  
        window["-Dados-"].update("Vou procurar o registo...")
        formLayout = [[sg.Text('Introduza os dados do registo')],
          [sg.Text('id', size=(10, 1)), sg.InputText(key='-ID-')],
          [sg.Button('Procurar id'), sg.Button('Cancelar')]]

        wform = sg.Window('pr', formLayout)
        inputEvent, inputValues = wform.read(close=True)
        wform.close()

        if inputEvent == 'Inserir id':
            window["-Dados-"].update('Evento: ' + inputEvent + 'Dados: ' + consultarDataset(lerDataset("alunos-windows.csv"), inputValues['-ID-']))
        else:
            window["-Dados-"].update('Inser��o cancelada!...')
        
    else:
        window["-Dados-"].update("Erro: evento desconhecido :: " + inputEvent)

window.close()


