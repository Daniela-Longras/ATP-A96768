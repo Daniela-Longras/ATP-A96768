{
 "cells": [
  {
   "cell_type": "code",
   "execution_count": null,
   "metadata": {},
   "outputs": [],
   "source": [
    "quemjoga = input(\"Quem começa a jogar? Computador ou Utilizador? \")\n",
    "print(\"                      \")\n",
    "\n",
    "def jogar():\n",
    "    c = 21\n",
    "    if quemjoga == \"utilizador\": \n",
    "       while 1 < c and c <= 21:\n",
    "             a = int(input(\"Qual a sua jogada? \"))\n",
    "             if a <= 4:\n",
    "                 b = 5 - a\n",
    "                 c = c - a - b\n",
    "                 print(\"Computador jogou:\", b)\n",
    "                 print(\"O número restante de fósforos é:\", c)\n",
    "                 print(\"                                    \")\n",
    "             else:\n",
    "                print(\"Só é possível retirar 1, 2, 3 ou 4 fósforos em cada jogada.\")\n",
    "       if c == 1 or c == 0:\n",
    "                print(\"O computador ganhou!\")\n",
    "       return()    \n",
    "\n",
    "    else:\n",
    "         while 1 < c and c <= 21:\n",
    "               b2 = 1\n",
    "               print(\"O computador jogou:\", b2)\n",
    "               j = 5 - b2\n",
    "               a2 = int(input(\"Qual a sua jogada? \"))\n",
    "               while 1 < c and c <= 21:\n",
    "                  if j != a2:\n",
    "                     b3 = 5 - b2 - a2\n",
    "                     c = c - a2 - b2\n",
    "                     print(\"                                        \")\n",
    "                     print(\"O computador jogou:\", b3)\n",
    "                     a2 = int(input(\"Qual a sua jogada? \"))\n",
    "                     print(\"O número restante de fósforos é:\", c)\n",
    "                     print(\"                                        \")\n",
    "                  else:\n",
    "                     c = c - a2 - b2\n",
    "                     print(\"O computador jogou:\", b2)\n",
    "                     a2 = int(input(\"Qual a sua jogada? \"))\n",
    "                     print(\"O número restante de fósforos é:\", c)\n",
    "                     print(\"                                        \")\n",
    "               if c == 1 or c == 0:\n",
    "                    print(\"Parabéns! Ganhaste!\")\n",
    "               return()\n",
    "         return ()\n",
    "                 \n",
    "print(jogar())"
   ]
  },
  {
   "cell_type": "code",
   "execution_count": null,
   "metadata": {},
   "outputs": [],
   "source": []
  }
 ],
 "metadata": {
  "kernelspec": {
   "display_name": "Python 3",
   "language": "python",
   "name": "python3"
  },
  "language_info": {
   "codemirror_mode": {
    "name": "ipython",
    "version": 3
   },
   "file_extension": ".py",
   "mimetype": "text/x-python",
   "name": "python",
   "nbconvert_exporter": "python",
   "pygments_lexer": "ipython3",
   "version": "3.8.3"
  }
 },
 "nbformat": 4,
 "nbformat_minor": 4
}
