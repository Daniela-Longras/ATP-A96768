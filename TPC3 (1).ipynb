{
 "cells": [
  {
   "cell_type": "markdown",
   "metadata": {},
   "source": [
    "### ATP3"
   ]
  },
  {
   "cell_type": "markdown",
   "metadata": {},
   "source": [
    "------"
   ]
  },
  {
   "cell_type": "markdown",
   "metadata": {},
   "source": [
    "#### **Identificador:** TPC3\n",
    "#### **Título:** \"Bubble Sort!\"\n",
    "#### **Data de início:** 2021/10/23\n",
    "#### **Data de fim:** 2021/10/24\n",
    "#### **Supervisor:** [José Carlos Ramalho](https://www.di.uminho.pt/~jcr/)\n",
    "#### **Autor:** Daniela Longras, a96768"
   ]
  },
  {
   "cell_type": "markdown",
   "metadata": {},
   "source": [
    "-----------"
   ]
  },
  {
   "cell_type": "markdown",
   "metadata": {},
   "source": [
    "### Resumo:\n",
    "O trabalho apresentado em *__phyton__* pretende resolver o problema proposto para TPC. As funções menu, criarListaM, criarListaA e maiorElemento já tinham sido criadas em aula. Com a função bubbleSort pretende-se ordenar uma função criada, anteriormente, manual ou aleatoriamente. Esta função pega na lista desordenada e vai percorrendo-a comparando os seus valores (primerio e sengundo, segundo e terceiro, etc). O menor valor que resulta dessa comparação passa para a menor posição (os dois valores comparados trocam de posição). Este processo dá-se até ao final da lista. No entanto, é possível que a lista ainda não esteja ordenada pois há valores que não foram comparados entre si. Por isso, foi criada uma variável que toma o valor de False. Caso tenham havido trocas enquanto a lista foi percorrida esta continua com o valor de False, no entanto, se não tiverem ocorrido trocas a variável toma o valor de True e o programa pára pois nesse caso a lista já estará ordenada."
   ]
  },
  {
   "cell_type": "markdown",
   "metadata": {},
   "source": [
    "---------------"
   ]
  },
  {
   "cell_type": "code",
   "execution_count": null,
   "metadata": {},
   "outputs": [
    {
     "name": "stdout",
     "output_type": "stream",
     "text": [
      "\n",
      "    Gestão de listas de inteiros: \n",
      "(1) Introduza a lista à mão;\n",
      "(2) Gerar lista de valores aleatórios;\n",
      "(3) Ver qual é o maior valor da lista;\n",
      "(4) Ver qual é o menor valor da lista;\n",
      "(5) Ordenar a lista;\n",
      "...\n",
      "(0) Sair\n"
     ]
    }
   ],
   "source": [
    "def menu():\n",
    "    print(\"\"\"\n",
    "    Gestão de listas de inteiros: \n",
    "(1) Introduza a lista à mão;\n",
    "(2) Gerar lista de valores aleatórios;\n",
    "(3) Ver qual é o maior valor da lista;\n",
    "(4) Ver qual é o menor valor da lista;\n",
    "(5) Ordenar a lista;\n",
    "...\n",
    "(0) Sair\"\"\")\n",
    "\n",
    "def criarListaM():\n",
    "    n = int(input(\"Introduza o número de elementos da lista:\"))\n",
    "    L = []\n",
    "    for i in range(n):\n",
    "        elem = int(input(\"Introduza o elemento\" + str(i + 1) + \":\"))\n",
    "        L.append(elem)\n",
    "    return L\n",
    "\n",
    "def criarListaA():\n",
    "    from random import randint\n",
    "    n = int(input(\"Introduza o número de elementos da lista:\"))\n",
    "    L2 = []\n",
    "    for i in range(n):\n",
    "        elem = randint(0,100)\n",
    "        L2.append(elem)\n",
    "    return L2\n",
    "\n",
    "def maiorElemento(l):\n",
    "    i = 1\n",
    "    maxi = l[0]\n",
    "    while i != len(l):\n",
    "        if l[0] < int(l[i]):\n",
    "            maxi = int(l[i])\n",
    "            i = i + 1\n",
    "        elif l[0] > int(l[i]):\n",
    "            maxi = l[0]\n",
    "            i = i + 1\n",
    "        else:\n",
    "            i = i + 1\n",
    "    return maxi\n",
    "\n",
    "def menorElemento(ll):\n",
    "    i = 0\n",
    "    mini = ll[0]\n",
    "    while i != len(ll):\n",
    "        if ll[0] < int(ll[i]):\n",
    "            mini = ll[0]\n",
    "            i = i + 1\n",
    "        elif ll[0] > int(ll[i]):\n",
    "            mini = int(ll[i])\n",
    "            i = i + 1\n",
    "        else:\n",
    "            i = i + 1\n",
    "    return mini\n",
    "\n",
    "def bubbleSort(L):\n",
    "    n = len(L)\n",
    "    j = 0\n",
    "    ordem = False\n",
    "    while not ordem:\n",
    "        ordem = True\n",
    "        for j in range(0, n-1):\n",
    "            if int(L[j]) > int(L[j+1]):\n",
    "               L[j], L[j+1] = L[j+1], L[j]\n",
    "               ordem = False\n",
    "    return L\n",
    "\n",
    "op = \"4\"\n",
    "while (op != \"0\"):\n",
    "      menu()\n",
    "      op = input(\"Qual é a sua opção?\")\n",
    "      if op == \"1\":\n",
    "         lis = criarListaM()\n",
    "         print (lis)\n",
    "         print (\"            \")\n",
    "      elif op == \"2\":\n",
    "         lis = criarListaA()\n",
    "         print (lis)\n",
    "         print (\"            \")\n",
    "      elif op ==\"3\":\n",
    "        try:\n",
    "            maximo = maiorElemento (lis)\n",
    "            print(maximo)\n",
    "        except:\n",
    "            print (\"Ainda não há nenhuma lista criada. \")\n",
    "            print (\"                  \")\n",
    "      elif op ==\"4\":\n",
    "        try:\n",
    "            minimo = menorElemento (lis)\n",
    "            print(minimo)\n",
    "        except:\n",
    "            print (\"Ainda não há nenhuma lista criada. \")\n",
    "            print (\"                  \")\n",
    "      elif op ==\"5\":\n",
    "         try:\n",
    "            ordenada = bubbleSort (lis)\n",
    "            print (ordenada)\n",
    "         except:\n",
    "            print (\"Ainda não há nenhuma lista criada.\")\n",
    "            print(\"            \")\n",
    "      elif op == \"0\":\n",
    "          print(\"Até à próxima!\")\n",
    "          print (\"            \")\n",
    "      else:\n",
    "        print(\"Opção inválida!\")\n",
    "        print (\"            \")\n"
   ]
  }
 ],
 "metadata": {
  "kernelspec": {
   "display_name": "Python 3",
   "language": "python",
   "name": "python3"
  },
  "language_info": {
   "codemirror_mode": {
    "name": "ipython",
    "version": 3
   },
   "file_extension": ".py",
   "mimetype": "text/x-python",
   "name": "python",
   "nbconvert_exporter": "python",
   "pygments_lexer": "ipython3",
   "version": "3.8.3"
  }
 },
 "nbformat": 4,
 "nbformat_minor": 4
}
